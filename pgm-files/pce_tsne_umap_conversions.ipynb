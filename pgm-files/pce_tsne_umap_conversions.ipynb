{
 "cells": [
  {
   "cell_type": "code",
   "execution_count": 6,
   "id": "edaaf42b-8c6a-462a-96f6-b1d5a7d98c31",
   "metadata": {},
   "outputs": [
    {
     "name": "stderr",
     "output_type": "stream",
     "text": [
      "C:\\Users\\prabi\\AppData\\Local\\Programs\\Python\\Python310\\lib\\site-packages\\umap\\umap_.py:1945: UserWarning: n_jobs value 1 overridden to 1 by setting random_state. Use no seed for parallelism.\n",
      "  warn(f\"n_jobs value {self.n_jobs} overridden to 1 by setting random_state. Use no seed for parallelism.\")\n",
      "C:\\Users\\prabi\\AppData\\Local\\Programs\\Python\\Python310\\lib\\site-packages\\sklearn\\manifold\\_spectral_embedding.py:329: UserWarning: Graph is not fully connected, spectral embedding may not work as expected.\n",
      "  warnings.warn(\n"
     ]
    }
   ],
   "source": [
    "import os\n",
    "import pandas as pd\n",
    "from sklearn.decomposition import PCA\n",
    "from sklearn.manifold import TSNE\n",
    "import umap\n",
    "\n",
    "# Load 'cc' dataset\n",
    "input_file_path = r\"C:\\Users\\prabi\\OneDrive\\Desktop\\V sem\\ML\\Assignment\\java_cc_embed_data.csv\"\n",
    "df_cc = pd.read_csv(input_file_path)\n",
    "\n",
    "# Extract directory of the input file\n",
    "output_dir = os.path.dirname(input_file_path)\n",
    "\n",
    "# Define target column\n",
    "target_col = 'Final_Marks'  # Replace with actual target column name\n",
    "\n",
    "# Drop the target column for dimensionality reduction\n",
    "X_cc = df_cc.drop(columns=[target_col])\n",
    "\n",
    "# PCA: Retain components that explain 90% of the variance\n",
    "pca = PCA(n_components=0.90)\n",
    "X_cc_pca = pca.fit_transform(X_cc)\n",
    "\n",
    "# t-SNE: Reducing to 3 dimensions\n",
    "tsne = TSNE(n_components=3, random_state=42)\n",
    "X_cc_tsne = tsne.fit_transform(X_cc)\n",
    "\n",
    "# UMAP: Reducing to 2 dimensions\n",
    "umap_model = umap.UMAP(n_components=2, random_state=42)\n",
    "X_cc_umap = umap_model.fit_transform(X_cc)\n",
    "\n",
    "# Create output file paths\n",
    "pca_output_file = os.path.join(output_dir, 'cc_pca_reduced.csv')\n",
    "tsne_output_file = os.path.join(output_dir, 'cc_tsne_reduced.csv')\n",
    "umap_output_file = os.path.join(output_dir, 'cc_umap_reduced.csv')\n",
    "\n",
    "# Save the reduced datasets to CSV files in the same directory as the input file\n",
    "pd.DataFrame(X_cc_pca).to_csv(pca_output_file, index=False)\n",
    "pd.DataFrame(X_cc_tsne).to_csv(tsne_output_file, index=False)\n",
    "pd.DataFrame(X_cc_umap).to_csv(umap_output_file, index=False)\n"
   ]
  },
  {
   "cell_type": "code",
   "execution_count": 7,
   "id": "5878a238-a773-4946-a3c5-0ce3040f4ed8",
   "metadata": {},
   "outputs": [
    {
     "name": "stderr",
     "output_type": "stream",
     "text": [
      "C:\\Users\\prabi\\AppData\\Local\\Programs\\Python\\Python310\\lib\\site-packages\\umap\\umap_.py:1945: UserWarning: n_jobs value 1 overridden to 1 by setting random_state. Use no seed for parallelism.\n",
      "  warn(f\"n_jobs value {self.n_jobs} overridden to 1 by setting random_state. Use no seed for parallelism.\")\n",
      "C:\\Users\\prabi\\AppData\\Local\\Programs\\Python\\Python310\\lib\\site-packages\\sklearn\\manifold\\_spectral_embedding.py:329: UserWarning: Graph is not fully connected, spectral embedding may not work as expected.\n",
      "  warnings.warn(\n"
     ]
    }
   ],
   "source": [
    "import os\n",
    "import pandas as pd\n",
    "from sklearn.decomposition import PCA\n",
    "from sklearn.manifold import TSNE\n",
    "import umap\n",
    "\n",
    "# Load 'co' dataset\n",
    "input_file_path = r\"C:\\Users\\prabi\\OneDrive\\Desktop\\V sem\\ML\\Assignment\\java_co_embed_data.csv\"\n",
    "df_co = pd.read_csv(input_file_path)\n",
    "\n",
    "# Extract directory of the input file\n",
    "output_dir = os.path.dirname(input_file_path)\n",
    "\n",
    "# Define target column\n",
    "target_col = 'Final_Marks'  # Replace with actual target column name\n",
    "\n",
    "# Drop the target column for dimensionality reduction\n",
    "X_co = df_co.drop(columns=[target_col])\n",
    "\n",
    "# PCA: Retain components that explain 90% of the variance\n",
    "pca = PCA(n_components=0.90)\n",
    "X_co_pca = pca.fit_transform(X_co)\n",
    "\n",
    "# t-SNE: Reducing to 3 dimensions\n",
    "tsne = TSNE(n_components=3, random_state=42)\n",
    "X_co_tsne = tsne.fit_transform(X_co)\n",
    "\n",
    "# UMAP: Reducing to 2 dimensions\n",
    "umap_model = umap.UMAP(n_components=2, random_state=42)\n",
    "X_co_umap = umap_model.fit_transform(X_co)\n",
    "\n",
    "# Create output file paths\n",
    "pca_output_file = os.path.join(output_dir, 'co_pca_reduced.csv')\n",
    "tsne_output_file = os.path.join(output_dir, 'co_tsne_reduced.csv')\n",
    "umap_output_file = os.path.join(output_dir, 'co_umap_reduced.csv')\n",
    "\n",
    "# Save the reduced datasets to CSV files in the same directory as the input file\n",
    "pd.DataFrame(X_co_pca).to_csv(pca_output_file, index=False)\n",
    "pd.DataFrame(X_co_tsne).to_csv(tsne_output_file, index=False)\n",
    "pd.DataFrame(X_co_umap).to_csv(umap_output_file, index=False)\n"
   ]
  },
  {
   "cell_type": "code",
   "execution_count": 8,
   "id": "5eba456e-29a3-4121-9104-897882aa5421",
   "metadata": {},
   "outputs": [
    {
     "name": "stderr",
     "output_type": "stream",
     "text": [
      "C:\\Users\\prabi\\AppData\\Local\\Programs\\Python\\Python310\\lib\\site-packages\\umap\\umap_.py:1945: UserWarning: n_jobs value 1 overridden to 1 by setting random_state. Use no seed for parallelism.\n",
      "  warn(f\"n_jobs value {self.n_jobs} overridden to 1 by setting random_state. Use no seed for parallelism.\")\n",
      "C:\\Users\\prabi\\AppData\\Local\\Programs\\Python\\Python310\\lib\\site-packages\\sklearn\\manifold\\_spectral_embedding.py:329: UserWarning: Graph is not fully connected, spectral embedding may not work as expected.\n",
      "  warnings.warn(\n"
     ]
    }
   ],
   "source": [
    "import os\n",
    "import pandas as pd\n",
    "from sklearn.decomposition import PCA\n",
    "from sklearn.manifold import TSNE\n",
    "import umap\n",
    "\n",
    "# Load 'cq' dataset\n",
    "input_file_path = r\"C:\\Users\\prabi\\OneDrive\\Desktop\\V sem\\ML\\Assignment\\java_cq_embed_data.csv\"\n",
    "df_cq = pd.read_csv(input_file_path)\n",
    "\n",
    "# Extract directory of the input file\n",
    "output_dir = os.path.dirname(input_file_path)\n",
    "\n",
    "# Define target column\n",
    "target_col = 'Final_Marks'  # Replace with actual target column name\n",
    "\n",
    "# Drop the target column for dimensionality reduction\n",
    "X_cq = df_cq.drop(columns=[target_col])\n",
    "\n",
    "# PCA: Retain components that explain 90% of the variance\n",
    "pca = PCA(n_components=0.90)\n",
    "X_cq_pca = pca.fit_transform(X_cq)\n",
    "\n",
    "# t-SNE: Reducing to 3 dimensions\n",
    "tsne = TSNE(n_components=3, random_state=42)\n",
    "X_cq_tsne = tsne.fit_transform(X_cq)\n",
    "\n",
    "# UMAP: Reducing to 2 dimensions\n",
    "umap_model = umap.UMAP(n_components=2, random_state=42)\n",
    "X_cq_umap = umap_model.fit_transform(X_cq)\n",
    "\n",
    "# Create output file paths\n",
    "pca_output_file = os.path.join(output_dir, 'cq_pca_reduced.csv')\n",
    "tsne_output_file = os.path.join(output_dir, 'cq_tsne_reduced.csv')\n",
    "umap_output_file = os.path.join(output_dir, 'cq_umap_reduced.csv')\n",
    "\n",
    "# Save the reduced datasets to CSV files in the same directory as the input file\n",
    "pd.DataFrame(X_cq_pca).to_csv(pca_output_file, index=False)\n",
    "pd.DataFrame(X_cq_tsne).to_csv(tsne_output_file, index=False)\n",
    "pd.DataFrame(X_cq_umap).to_csv(umap_output_file, index=False)\n"
   ]
  },
  {
   "cell_type": "code",
   "execution_count": 9,
   "id": "54d68650-31b4-47ef-a92d-e6ca9ab9b79a",
   "metadata": {},
   "outputs": [
    {
     "name": "stderr",
     "output_type": "stream",
     "text": [
      "C:\\Users\\prabi\\AppData\\Local\\Programs\\Python\\Python310\\lib\\site-packages\\umap\\umap_.py:1945: UserWarning: n_jobs value 1 overridden to 1 by setting random_state. Use no seed for parallelism.\n",
      "  warn(f\"n_jobs value {self.n_jobs} overridden to 1 by setting random_state. Use no seed for parallelism.\")\n",
      "C:\\Users\\prabi\\AppData\\Local\\Programs\\Python\\Python310\\lib\\site-packages\\sklearn\\manifold\\_spectral_embedding.py:329: UserWarning: Graph is not fully connected, spectral embedding may not work as expected.\n",
      "  warnings.warn(\n"
     ]
    }
   ],
   "source": [
    "import os\n",
    "import pandas as pd\n",
    "from sklearn.decomposition import PCA\n",
    "from sklearn.manifold import TSNE\n",
    "import umap\n",
    "\n",
    "# Load 'cs' dataset\n",
    "input_file_path = r\"C:\\Users\\prabi\\OneDrive\\Desktop\\V sem\\ML\\Assignment\\java_cs_embed_data.csv\"\n",
    "df_cs = pd.read_csv(input_file_path)\n",
    "\n",
    "# Extract directory of the input file\n",
    "output_dir = os.path.dirname(input_file_path)\n",
    "\n",
    "# Define target column\n",
    "target_col = 'Final_Marks'  # Replace with actual target column name\n",
    "\n",
    "# Drop the target column for dimensionality reduction\n",
    "X_cs = df_cs.drop(columns=[target_col])\n",
    "\n",
    "# PCA: Retain components that explain 90% of the variance\n",
    "pca = PCA(n_components=0.90)\n",
    "X_cs_pca = pca.fit_transform(X_cs)\n",
    "\n",
    "# t-SNE: Reducing to 3 dimensions\n",
    "tsne = TSNE(n_components=3, random_state=42)\n",
    "X_cs_tsne = tsne.fit_transform(X_cs)\n",
    "\n",
    "# UMAP: Reducing to 2 dimensions\n",
    "umap_model = umap.UMAP(n_components=2, random_state=42)\n",
    "X_cs_umap = umap_model.fit_transform(X_cs)\n",
    "\n",
    "# Create output file paths\n",
    "pca_output_file = os.path.join(output_dir, 'cs_pca_reduced.csv')\n",
    "tsne_output_file = os.path.join(output_dir, 'cs_tsne_reduced.csv')\n",
    "umap_output_file = os.path.join(output_dir, 'cs_umap_reduced.csv')\n",
    "\n",
    "# Save the reduced datasets to CSV files in the same directory as the input file\n",
    "pd.DataFrame(X_cs_pca).to_csv(pca_output_file, index=False)\n",
    "pd.DataFrame(X_cs_tsne).to_csv(tsne_output_file, index=False)\n",
    "pd.DataFrame(X_cs_umap).to_csv(umap_output_file, index=False)\n"
   ]
  },
  {
   "cell_type": "code",
   "execution_count": null,
   "id": "99f2844b-6f4d-4e08-92c5-80cba1175f1c",
   "metadata": {},
   "outputs": [],
   "source": []
  }
 ],
 "metadata": {
  "kernelspec": {
   "display_name": "Python 3 (ipykernel)",
   "language": "python",
   "name": "python3"
  },
  "language_info": {
   "codemirror_mode": {
    "name": "ipython",
    "version": 3
   },
   "file_extension": ".py",
   "mimetype": "text/x-python",
   "name": "python",
   "nbconvert_exporter": "python",
   "pygments_lexer": "ipython3",
   "version": "3.10.7"
  }
 },
 "nbformat": 4,
 "nbformat_minor": 5
}
